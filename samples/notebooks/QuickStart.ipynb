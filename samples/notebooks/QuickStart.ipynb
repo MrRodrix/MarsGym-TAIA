{
 "cells": [
  {
   "cell_type": "markdown",
   "metadata": {},
   "source": [
    "# Quick Start"
   ]
  },
  {
   "cell_type": "code",
   "execution_count": 2,
   "metadata": {},
   "outputs": [],
   "source": [
    "import sys\n",
    "sys.path.append('../../')"
   ]
  },
  {
   "cell_type": "code",
   "execution_count": 7,
   "metadata": {
    "tags": []
   },
   "outputs": [
    {
     "output_type": "stream",
     "name": "stdout",
     "text": "/media/workspace/DeepFood/deep-reco-gym/samples/notebooks\n"
    }
   ],
   "source": []
  },
  {
   "cell_type": "markdown",
   "metadata": {},
   "source": [
    "## Dataset"
   ]
  },
  {
   "cell_type": "code",
   "execution_count": 3,
   "metadata": {
    "tags": []
   },
   "outputs": [
    {
     "output_type": "stream",
     "name": "stderr",
     "text": "/home/marlesson/anaconda3/envs/mars-gym/lib/python3.6/site-packages/sklearn/externals/six.py:31: DeprecationWarning: The module is deprecated in version 0.21 and will be removed in version 0.23 since we've dropped support for Python 2.7. Please rely on the official version of six (https://pypi.org/project/six/).\n  \"(https://pypi.org/project/six/).\", DeprecationWarning)\n"
    }
   ],
   "source": [
    "from mars_gym.data import utils "
   ]
  },
  {
   "cell_type": "code",
   "execution_count": 4,
   "metadata": {},
   "outputs": [
    {
     "output_type": "execute_result",
     "data": {
      "text/plain": "['random',\n 'yoochoose',\n 'processed_yoochoose',\n 'trivago_rio',\n 'processed_trivago_rio']"
     },
     "metadata": {},
     "execution_count": 4
    }
   ],
   "source": [
    "utils.datasets()"
   ]
  },
  {
   "cell_type": "code",
   "execution_count": 13,
   "metadata": {
    "tags": []
   },
   "outputs": [
    {
     "output_type": "stream",
     "name": "stderr",
     "text": "3.55kKB [00:00, 3.79kKB/s]\n605KB [00:00, 2.36kKB/s]\n"
    }
   ],
   "source": [
    "df, df_meta = utils.load_dataset('processed_trivago_rio')"
   ]
  },
  {
   "cell_type": "code",
   "execution_count": 14,
   "metadata": {},
   "outputs": [
    {
     "output_type": "execute_result",
     "data": {
      "text/plain": "      session_id       user_id   timestamp            action_type  item_id  \\\n0  05fe82b496fb9  M1Z13DD0P2KH  1541422443          clickout item  4304686   \n1  05fe82b496fb9  M1Z13DD0P2KH  1541422474          clickout item   960255   \n2  05fe82b496fb9  M1Z13DD0P2KH  1541423039          clickout item  2188598   \n3  05fe82b496fb9  M1Z13DD0P2KH  1541424631          clickout item  8459162   \n4  05fe82b496fb9  M1Z13DD0P2KH  1541424685  interaction item info  8459162   \n\n                                         impressions  \\\n0  ['109351', '150138', '4345728', '105014', '478...   \n1  ['1475717', '5196406', '104880', '109351', '68...   \n2  ['104558', '326781', '104786', '1223390', '206...   \n3  ['105014', '5659850', '478121', '109351', '956...   \n4                                                NaN   \n\n                               list_reference_item  pos_item_id  clicked  \n0                             ['', '', '', '', '']            7      1.0  \n1                      ['4304686', '', '', '', '']           20      1.0  \n2                ['4304686', '960255', '', '', '']            9      1.0  \n3         ['4304686', '960255', '2188598', '', '']           23      1.0  \n4  ['4304686', '960255', '2188598', '8459162', '']           -1      0.0  ",
      "text/html": "<div>\n<style scoped>\n    .dataframe tbody tr th:only-of-type {\n        vertical-align: middle;\n    }\n\n    .dataframe tbody tr th {\n        vertical-align: top;\n    }\n\n    .dataframe thead th {\n        text-align: right;\n    }\n</style>\n<table border=\"1\" class=\"dataframe\">\n  <thead>\n    <tr style=\"text-align: right;\">\n      <th></th>\n      <th>session_id</th>\n      <th>user_id</th>\n      <th>timestamp</th>\n      <th>action_type</th>\n      <th>item_id</th>\n      <th>impressions</th>\n      <th>list_reference_item</th>\n      <th>pos_item_id</th>\n      <th>clicked</th>\n    </tr>\n  </thead>\n  <tbody>\n    <tr>\n      <td>0</td>\n      <td>05fe82b496fb9</td>\n      <td>M1Z13DD0P2KH</td>\n      <td>1541422443</td>\n      <td>clickout item</td>\n      <td>4304686</td>\n      <td>['109351', '150138', '4345728', '105014', '478...</td>\n      <td>['', '', '', '', '']</td>\n      <td>7</td>\n      <td>1.0</td>\n    </tr>\n    <tr>\n      <td>1</td>\n      <td>05fe82b496fb9</td>\n      <td>M1Z13DD0P2KH</td>\n      <td>1541422474</td>\n      <td>clickout item</td>\n      <td>960255</td>\n      <td>['1475717', '5196406', '104880', '109351', '68...</td>\n      <td>['4304686', '', '', '', '']</td>\n      <td>20</td>\n      <td>1.0</td>\n    </tr>\n    <tr>\n      <td>2</td>\n      <td>05fe82b496fb9</td>\n      <td>M1Z13DD0P2KH</td>\n      <td>1541423039</td>\n      <td>clickout item</td>\n      <td>2188598</td>\n      <td>['104558', '326781', '104786', '1223390', '206...</td>\n      <td>['4304686', '960255', '', '', '']</td>\n      <td>9</td>\n      <td>1.0</td>\n    </tr>\n    <tr>\n      <td>3</td>\n      <td>05fe82b496fb9</td>\n      <td>M1Z13DD0P2KH</td>\n      <td>1541424631</td>\n      <td>clickout item</td>\n      <td>8459162</td>\n      <td>['105014', '5659850', '478121', '109351', '956...</td>\n      <td>['4304686', '960255', '2188598', '', '']</td>\n      <td>23</td>\n      <td>1.0</td>\n    </tr>\n    <tr>\n      <td>4</td>\n      <td>05fe82b496fb9</td>\n      <td>M1Z13DD0P2KH</td>\n      <td>1541424685</td>\n      <td>interaction item info</td>\n      <td>8459162</td>\n      <td>NaN</td>\n      <td>['4304686', '960255', '2188598', '8459162', '']</td>\n      <td>-1</td>\n      <td>0.0</td>\n    </tr>\n  </tbody>\n</table>\n</div>"
     },
     "metadata": {},
     "execution_count": 14
    }
   ],
   "source": [
    "df.head()"
   ]
  },
  {
   "cell_type": "code",
   "execution_count": 15,
   "metadata": {},
   "outputs": [
    {
     "output_type": "execute_result",
     "data": {
      "text/plain": "   Unnamed: 0  item_id  1 star  2 star  3 star  4 star  5 star  \\\n0           0  3217002       0       0       0       0       0   \n1           1  3486086       0       0       0       0       0   \n2           2  5497220       0       0       0       1       0   \n3           3  6551710       0       0       0       0       0   \n4           4  6680288       0       0       0       0       0   \n\n   accessible hotel  accessible parking  adults only  ...  terrace (hotel)  \\\n0                 0                   0            0  ...                1   \n1                 0                   0            0  ...                0   \n2                 1                   0            0  ...                0   \n3                 0                   0            1  ...                1   \n4                 0                   0            0  ...                1   \n\n   theme hotel  towels  very good rating  volleyball  washing machine  \\\n0            0       0                 1           0                0   \n1            0       0                 0           0                0   \n2            0       0                 1           0                0   \n3            0       0                 0           0                1   \n4            0       0                 1           0                1   \n\n   wheelchair accessible  wifi (public areas)  wifi (rooms)  \\\n0                      0                    1             1   \n1                      0                    0             0   \n2                      1                    1             1   \n3                      0                    0             1   \n4                      0                    1             1   \n\n                                       list_metadata  \n0  [0, 0, 0, 0, 0, 0, 0, 0, 1, 0, 0, 0, 0, 1, 0, ...  \n1  [0, 0, 0, 0, 0, 0, 0, 0, 0, 0, 0, 0, 0, 0, 0, ...  \n2  [0, 0, 0, 1, 0, 1, 0, 0, 1, 0, 0, 0, 1, 1, 0, ...  \n3  [0, 0, 0, 0, 0, 0, 0, 1, 0, 1, 0, 1, 0, 0, 0, ...  \n4  [0, 0, 0, 0, 0, 0, 0, 0, 1, 1, 0, 1, 0, 1, 0, ...  \n\n[5 rows x 151 columns]",
      "text/html": "<div>\n<style scoped>\n    .dataframe tbody tr th:only-of-type {\n        vertical-align: middle;\n    }\n\n    .dataframe tbody tr th {\n        vertical-align: top;\n    }\n\n    .dataframe thead th {\n        text-align: right;\n    }\n</style>\n<table border=\"1\" class=\"dataframe\">\n  <thead>\n    <tr style=\"text-align: right;\">\n      <th></th>\n      <th>Unnamed: 0</th>\n      <th>item_id</th>\n      <th>1 star</th>\n      <th>2 star</th>\n      <th>3 star</th>\n      <th>4 star</th>\n      <th>5 star</th>\n      <th>accessible hotel</th>\n      <th>accessible parking</th>\n      <th>adults only</th>\n      <th>...</th>\n      <th>terrace (hotel)</th>\n      <th>theme hotel</th>\n      <th>towels</th>\n      <th>very good rating</th>\n      <th>volleyball</th>\n      <th>washing machine</th>\n      <th>wheelchair accessible</th>\n      <th>wifi (public areas)</th>\n      <th>wifi (rooms)</th>\n      <th>list_metadata</th>\n    </tr>\n  </thead>\n  <tbody>\n    <tr>\n      <td>0</td>\n      <td>0</td>\n      <td>3217002</td>\n      <td>0</td>\n      <td>0</td>\n      <td>0</td>\n      <td>0</td>\n      <td>0</td>\n      <td>0</td>\n      <td>0</td>\n      <td>0</td>\n      <td>...</td>\n      <td>1</td>\n      <td>0</td>\n      <td>0</td>\n      <td>1</td>\n      <td>0</td>\n      <td>0</td>\n      <td>0</td>\n      <td>1</td>\n      <td>1</td>\n      <td>[0, 0, 0, 0, 0, 0, 0, 0, 1, 0, 0, 0, 0, 1, 0, ...</td>\n    </tr>\n    <tr>\n      <td>1</td>\n      <td>1</td>\n      <td>3486086</td>\n      <td>0</td>\n      <td>0</td>\n      <td>0</td>\n      <td>0</td>\n      <td>0</td>\n      <td>0</td>\n      <td>0</td>\n      <td>0</td>\n      <td>...</td>\n      <td>0</td>\n      <td>0</td>\n      <td>0</td>\n      <td>0</td>\n      <td>0</td>\n      <td>0</td>\n      <td>0</td>\n      <td>0</td>\n      <td>0</td>\n      <td>[0, 0, 0, 0, 0, 0, 0, 0, 0, 0, 0, 0, 0, 0, 0, ...</td>\n    </tr>\n    <tr>\n      <td>2</td>\n      <td>2</td>\n      <td>5497220</td>\n      <td>0</td>\n      <td>0</td>\n      <td>0</td>\n      <td>1</td>\n      <td>0</td>\n      <td>1</td>\n      <td>0</td>\n      <td>0</td>\n      <td>...</td>\n      <td>0</td>\n      <td>0</td>\n      <td>0</td>\n      <td>1</td>\n      <td>0</td>\n      <td>0</td>\n      <td>1</td>\n      <td>1</td>\n      <td>1</td>\n      <td>[0, 0, 0, 1, 0, 1, 0, 0, 1, 0, 0, 0, 1, 1, 0, ...</td>\n    </tr>\n    <tr>\n      <td>3</td>\n      <td>3</td>\n      <td>6551710</td>\n      <td>0</td>\n      <td>0</td>\n      <td>0</td>\n      <td>0</td>\n      <td>0</td>\n      <td>0</td>\n      <td>0</td>\n      <td>1</td>\n      <td>...</td>\n      <td>1</td>\n      <td>0</td>\n      <td>0</td>\n      <td>0</td>\n      <td>0</td>\n      <td>1</td>\n      <td>0</td>\n      <td>0</td>\n      <td>1</td>\n      <td>[0, 0, 0, 0, 0, 0, 0, 1, 0, 1, 0, 1, 0, 0, 0, ...</td>\n    </tr>\n    <tr>\n      <td>4</td>\n      <td>4</td>\n      <td>6680288</td>\n      <td>0</td>\n      <td>0</td>\n      <td>0</td>\n      <td>0</td>\n      <td>0</td>\n      <td>0</td>\n      <td>0</td>\n      <td>0</td>\n      <td>...</td>\n      <td>1</td>\n      <td>0</td>\n      <td>0</td>\n      <td>1</td>\n      <td>0</td>\n      <td>1</td>\n      <td>0</td>\n      <td>1</td>\n      <td>1</td>\n      <td>[0, 0, 0, 0, 0, 0, 0, 0, 1, 1, 0, 1, 0, 1, 0, ...</td>\n    </tr>\n  </tbody>\n</table>\n<p>5 rows × 151 columns</p>\n</div>"
     },
     "metadata": {},
     "execution_count": 15
    }
   ],
   "source": [
    "df_meta.head()"
   ]
  },
  {
   "cell_type": "code",
   "execution_count": null,
   "metadata": {},
   "outputs": [],
   "source": []
  }
 ],
 "metadata": {
  "language_info": {
   "codemirror_mode": {
    "name": "ipython",
    "version": 3
   },
   "file_extension": ".py",
   "mimetype": "text/x-python",
   "name": "python",
   "nbconvert_exporter": "python",
   "pygments_lexer": "ipython3",
   "version": "3.6.7-final"
  },
  "orig_nbformat": 2,
  "kernelspec": {
   "name": "python36764bitmarsgymconda952b3ac1b2454a75b0f31c28aca6ec78",
   "display_name": "Python 3.6.7 64-bit ('mars-gym': conda)"
  }
 },
 "nbformat": 4,
 "nbformat_minor": 2
}